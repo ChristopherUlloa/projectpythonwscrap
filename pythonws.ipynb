!pip install yfinance requests_html matplotlib pandas

import yfinance as yf
import pandas as pd
import matplotlib.pyplot as plt
from requests_html import HTMLSession

def fetch_macrotrends_revenue(symbol, slug):
    url = f"https://www.macrotrends.net/stocks/charts/{symbol}/{slug}/revenue"
    session = HTMLSession()
    response = session.get(url)
    response.html.render(timeout=30)

    tables = response.html.find("table.historical_data_table")
    if len(tables) < 2:
        raise Exception(f"No se encontraron tablas de revenue para {symbol}.")
    
    def parse_table(table_html):
        rows = []
        trs = table_html.find("tr")
        for tr in trs:
            tds = tr.find("td")
            if len(tds) == 2:
                date = tds[0].text
                revenue = tds[1].text.replace("$", "").replace(",", "")
                if revenue:
                    rows.append((date, float(revenue)))
        return pd.DataFrame(rows, columns=["Date", "Revenue"])
    
    annual_df = parse_table(tables[0])
    quarterly_df = parse_table(tables[1])
    return annual_df, quarterly_df

def make_graph(stock_data, revenue_data, stock_name):
    fig, ax1 = plt.subplots(figsize=(10,6))
    ax1.plot(stock_data['Date'], stock_data['Close'], color='blue')
    ax1.set_xlabel('Date')
    ax1.set_ylabel('Stock Price', color='blue')
    ax2 = ax1.twinx()
    ax2.plot(revenue_data['Date'], revenue_data['Revenue'], color='green')
    ax2.set_ylabel('Revenue', color='green')
    plt.title(stock_name)
    plt.show()

tesla_data = yf.download('TSLA', start='2010-01-01', end='2025-01-01')
tesla_data.reset_index(inplace=True)
print("Tesla Stock Data:")
print(tesla_data.head())

tsla_annual, tsla_quarterly = fetch_macrotrends_revenue("TSLA", "tesla")
print("Tesla Revenue (últimos datos trimestrales):")
print(tsla_quarterly.tail())

gme_data = yf.download('GME', start='2010-01-01', end='2025-01-01')
gme_data.reset_index(inplace=True)
print("GameStop Stock Data:")
print(gme_data.head())

gme_annual, gme_quarterly = fetch_macrotrends_revenue("GME", "gamestop")
print("GameStop Revenue (últimos datos trimestrales):")
print(gme_quarterly.tail())

make_graph(tesla_data, tsla_quarterly, 'Tesla Stock and Revenue')

make_graph(gme_data, gme_quarterly, 'GameStop Stock and Revenue')
